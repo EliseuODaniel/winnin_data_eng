{
 "cells": [
  {
   "cell_type": "markdown",
   "metadata": {
    "application/vnd.databricks.v1+cell": {
     "cellMetadata": {
      "byteLimit": 2048000,
      "rowLimit": 10000
     },
     "inputWidgets": {},
     "nuid": "de22ac31-4cfc-42c2-90be-84c9f7584f22",
     "showTitle": false,
     "tableResultSettingsMap": {},
     "title": ""
    }
   },
   "source": [
    "# 4 - analyze_creators\n",
    "\n",
    "Este notebook realiza análises sobre os criadores de conteúdo a partir das tabelas `default.users_yt` e `default.posts_creator`.  \n",
    "O fluxo inclui:  \n",
    "- filtro dinâmico para considerar apenas os últimos 6 meses de publicações;  \n",
    "- cálculo dos **Top 3 posts por Likes** e dos **Top 3 posts por Views** de cada criador (com desempate por data de publicação);  \n",
    "- identificação de usuários presentes em `posts_creator` mas ausentes em `users_yt`;  \n",
    "- contagem de publicações por mês ao longo de todo o período;  \n",
    "- construção de uma grade completa (criador × mês) exibindo **0** nos meses sem posts;  \n",
    "- transformação final em formato pivotado, com uma coluna para cada mês.  \n",
    "\n",
    "O resultado fornece uma visão abrangente da produção de cada criador, tanto em termos de performance (likes/views) quanto de frequência (posts por mês).  \n",
    "\n",
    "\n",
    "\n",
    "\n",
    "## Obs. o código considera 6 meses para trás a partir da data da última postagem (published_date = 2024-04-15 - conforme query abaixo) \n",
    "já que na tabela default.posts_creator não há postagens nos últimos 6 meses voltando da data de hoje, então as primeiras duas respostas (de top 3) e o exercício extra 2 retornariam apenas zeros.\n",
    "\n"
   ]
  },
  {
   "cell_type": "code",
   "execution_count": 0,
   "metadata": {
    "application/vnd.databricks.v1+cell": {
     "cellMetadata": {
      "byteLimit": 2048000,
      "implicitDf": true,
      "rowLimit": 10000
     },
     "inputWidgets": {},
     "nuid": "b2b77d38-b332-48f6-9e0d-72d5388077ad",
     "showTitle": false,
     "tableResultSettingsMap": {},
     "title": ""
    }
   },
   "outputs": [],
   "source": [
    "%sql\n",
    "SELECT \n",
    "    DATE(published_at_ts) AS published_date\n",
    "FROM default.posts_creator\n",
    "ORDER BY published_at_ts DESC\n",
    "LIMIT 1"
   ]
  },
  {
   "cell_type": "code",
   "execution_count": 0,
   "metadata": {
    "application/vnd.databricks.v1+cell": {
     "cellMetadata": {
      "byteLimit": 2048000,
      "rowLimit": 10000
     },
     "inputWidgets": {},
     "nuid": "6b6e5090-2e2b-469a-afdd-a12f1e12644a",
     "showTitle": false,
     "tableResultSettingsMap": {},
     "title": ""
    }
   },
   "outputs": [],
   "source": [
    "# Imports and Data Loading\n",
    "from pyspark.sql import functions as F\n",
    "from pyspark.sql.window import Window\n",
    "from pyspark.sql import DataFrame\n",
    "\n",
    "users_df = spark.table(\"default.users_yt\")\n",
    "posts_df = spark.table(\"default.posts_creator\")\n",
    "\n",
    "\n",
    "# Dynamic 6-month limit based on published_month (DATE)\n",
    "month_bounds = posts_df.agg(F.add_months(F.max(\"published_month\"), -6).alias(\"six_months_limit_month\"))\n",
    "\n",
    "# Filter posts where month >= limit (keeps everything distributed)\n",
    "posts_recent = (\n",
    "    posts_df.crossJoin(month_bounds)\n",
    "        .filter(F.col(\"published_month\") >= F.col(\"six_months_limit_month\"))\n",
    ")\n",
    "\n",
    "# Analysis base: join with users_yt (broadcast for performance)\n",
    "base_analysis_df = (\n",
    "    posts_recent.join(F.broadcast(users_df), posts_recent[\"yt_user\"] == users_df[\"user_id\"], \"inner\")\n",
    ")\n",
    "\n",
    "# Top 3 by LIKES (tie-breaker by published_at_ts desc)\n",
    "w_likes = Window.partitionBy(\"user_id\").orderBy(F.col(\"likes\").desc(), F.col(\"published_at_ts\").desc())\n",
    "top3_likes_df = (\n",
    "    base_analysis_df\n",
    "      .withColumn(\"rank\", F.row_number().over(w_likes))\n",
    "      .filter(F.col(\"rank\") <= 3)\n",
    "      .select(\"user_id\", \"title\", \"likes\", \"rank\")\n",
    "      .orderBy(\"user_id\", \"rank\")\n",
    ")\n",
    "\n",
    "# Top 3 by VIEWS (tie-breaker by published_at_ts desc)\n",
    "w_views = Window.partitionBy(\"user_id\").orderBy(F.col(\"views\").desc(), F.col(\"published_at_ts\").desc())\n",
    "top3_views_df = (\n",
    "    base_analysis_df\n",
    "      .withColumn(\"rank\", F.row_number().over(w_views))\n",
    "      .filter(F.col(\"rank\") <= 3)\n",
    "      .select(\"user_id\", \"title\", \"views\", \"rank\")\n",
    "      .orderBy(\"user_id\", \"rank\")\n",
    ")\n",
    "\n",
    "# Users in posts_creator that are NOT in users_yt\n",
    "missing_users_df = (\n",
    "    posts_df.select(\"yt_user\").distinct()\n",
    "        .join(users_df.select(\"user_id\"), F.col(\"yt_user\") == F.col(\"user_id\"), \"left_anti\")\n",
    ")\n",
    "\n",
    "# Posts per month (entire period)\n",
    "posts_per_month_df = (\n",
    "    posts_df\n",
    "      .groupBy(\"yt_user\", \"published_month\")\n",
    "      .count()\n",
    "      .withColumnRenamed(\"published_month\", \"month\") \n",
    ")\n",
    "\n",
    "\n",
    "# Complete grid (0 for months without videos), covering the entire DF period\n",
    "date_bounds = posts_df.agg(\n",
    "    F.min(\"published_month\").alias(\"first_month\"),\n",
    "    F.max(\"published_month\").alias(\"last_month\"),\n",
    ")\n",
    "\n",
    "months_df = (\n",
    "    date_bounds\n",
    "      .select(F.expr(\"sequence(first_month, last_month, interval 1 month) AS months\"))\n",
    "      .select(F.explode(\"months\").alias(\"month\"))\n",
    ")\n",
    "\n",
    "creators_df = posts_df.select(\"yt_user\").distinct()\n",
    "full_grid_df = creators_df.crossJoin(months_df)\n",
    "\n",
    "posts_complete_df = (\n",
    "    full_grid_df.join(posts_per_month_df, [\"yt_user\", \"month\"], \"left\")\n",
    "        .select(\n",
    "            F.col(\"yt_user\").alias(\"user_id\"),\n",
    "            F.col(\"month\"),\n",
    "            F.coalesce(F.col(\"count\"), F.lit(0)).alias(\"posts_count\")\n",
    "        )\n",
    ")\n",
    "\n",
    "# Pivot: columns per month\n",
    "pivoted_df = (\n",
    "    posts_complete_df\n",
    "      .withColumn(\"month_ym\", F.date_format(\"month\", \"yyyy-MM\"))\n",
    "      .groupBy(\"user_id\")\n",
    "      .pivot(\"month_ym\")\n",
    "      .sum(\"posts_count\")\n",
    "      .orderBy(\"user_id\")\n",
    ")\n",
    "\n",
    "\n"
   ]
  },
  {
   "cell_type": "markdown",
   "metadata": {
    "application/vnd.databricks.v1+cell": {
     "cellMetadata": {
      "byteLimit": 2048000,
      "rowLimit": 10000
     },
     "inputWidgets": {},
     "nuid": "614bbb5d-d529-4fc0-921c-f941dec62a7c",
     "showTitle": false,
     "tableResultSettingsMap": {},
     "title": ""
    }
   },
   "source": [
    "## 1) Top 3 posts por likes nos últimos 6 meses, por creator"
   ]
  },
  {
   "cell_type": "code",
   "execution_count": 0,
   "metadata": {
    "application/vnd.databricks.v1+cell": {
     "cellMetadata": {
      "byteLimit": 2048000,
      "rowLimit": 10000
     },
     "inputWidgets": {},
     "nuid": "c618ee13-70d8-4592-a610-49a1fce89877",
     "showTitle": false,
     "tableResultSettingsMap": {},
     "title": ""
    }
   },
   "outputs": [],
   "source": [
    "display(top3_likes_df)"
   ]
  },
  {
   "cell_type": "markdown",
   "metadata": {
    "application/vnd.databricks.v1+cell": {
     "cellMetadata": {
      "byteLimit": 2048000,
      "rowLimit": 10000
     },
     "inputWidgets": {},
     "nuid": "7d3340ed-e75d-4ec6-a8af-2f4a59809842",
     "showTitle": false,
     "tableResultSettingsMap": {},
     "title": ""
    }
   },
   "source": [
    "## 2) Top 3 posts por views nos últimos 6 meses, por creator"
   ]
  },
  {
   "cell_type": "code",
   "execution_count": 0,
   "metadata": {
    "application/vnd.databricks.v1+cell": {
     "cellMetadata": {
      "byteLimit": 2048000,
      "rowLimit": 10000
     },
     "inputWidgets": {},
     "nuid": "b8445902-c64d-497d-98be-a1772877db5c",
     "showTitle": false,
     "tableResultSettingsMap": {},
     "title": ""
    }
   },
   "outputs": [],
   "source": [
    "display(top3_views_df)\n"
   ]
  },
  {
   "cell_type": "markdown",
   "metadata": {
    "application/vnd.databricks.v1+cell": {
     "cellMetadata": {
      "byteLimit": 2048000,
      "rowLimit": 10000
     },
     "inputWidgets": {},
     "nuid": "9a8248db-95a1-4038-a1c2-b9df461e4f1e",
     "showTitle": false,
     "tableResultSettingsMap": {},
     "title": ""
    }
   },
   "source": [
    "## 3) YT users em posts mas não em users_yt"
   ]
  },
  {
   "cell_type": "code",
   "execution_count": 0,
   "metadata": {
    "application/vnd.databricks.v1+cell": {
     "cellMetadata": {
      "byteLimit": 2048000,
      "rowLimit": 10000
     },
     "inputWidgets": {},
     "nuid": "22d1497d-0beb-4087-8ce1-d8616d0825e6",
     "showTitle": false,
     "tableResultSettingsMap": {},
     "title": ""
    }
   },
   "outputs": [],
   "source": [
    "display(missing_users_df)\n"
   ]
  },
  {
   "cell_type": "markdown",
   "metadata": {
    "application/vnd.databricks.v1+cell": {
     "cellMetadata": {
      "byteLimit": 2048000,
      "rowLimit": 10000
     },
     "inputWidgets": {},
     "nuid": "f198e553-a527-40cb-b792-3a7597f9eef6",
     "showTitle": false,
     "tableResultSettingsMap": {},
     "title": ""
    }
   },
   "source": [
    "## 4) Quantidade de publicações por mês, por creator"
   ]
  },
  {
   "cell_type": "code",
   "execution_count": 0,
   "metadata": {
    "application/vnd.databricks.v1+cell": {
     "cellMetadata": {
      "byteLimit": 2048000,
      "rowLimit": 10000
     },
     "inputWidgets": {},
     "nuid": "9b1e9d4c-1860-42dc-8b6e-c782977559f5",
     "showTitle": false,
     "tableResultSettingsMap": {},
     "title": ""
    }
   },
   "outputs": [],
   "source": [
    "display(posts_per_month_df.orderBy(\"yt_user\", \"month\"))\n"
   ]
  },
  {
   "cell_type": "markdown",
   "metadata": {
    "application/vnd.databricks.v1+cell": {
     "cellMetadata": {
      "byteLimit": 2048000,
      "rowLimit": 10000
     },
     "inputWidgets": {},
     "nuid": "b4556491-f102-45f7-a356-a15b5bf1f451",
     "showTitle": false,
     "tableResultSettingsMap": {},
     "title": ""
    }
   },
   "source": [
    "## Exercício extra 1: Mostrar 0 para meses sem vídeo"
   ]
  },
  {
   "cell_type": "code",
   "execution_count": 0,
   "metadata": {
    "application/vnd.databricks.v1+cell": {
     "cellMetadata": {
      "byteLimit": 2048000,
      "rowLimit": 10000
     },
     "inputWidgets": {},
     "nuid": "5e649ab3-2e23-4f73-ad2b-f7f803cae8d5",
     "showTitle": false,
     "tableResultSettingsMap": {},
     "title": ""
    }
   },
   "outputs": [],
   "source": [
    "display(posts_complete_df.orderBy(\"user_id\", \"month\"))\n"
   ]
  },
  {
   "cell_type": "markdown",
   "metadata": {
    "application/vnd.databricks.v1+cell": {
     "cellMetadata": {
      "byteLimit": 2048000,
      "rowLimit": 10000
     },
     "inputWidgets": {},
     "nuid": "5f422a43-04b5-4609-be0c-9dd62760dfb6",
     "showTitle": false,
     "tableResultSettingsMap": {},
     "title": ""
    }
   },
   "source": [
    "## Exercício extra 2: Pivot — colunas por mês"
   ]
  },
  {
   "cell_type": "code",
   "execution_count": 0,
   "metadata": {
    "application/vnd.databricks.v1+cell": {
     "cellMetadata": {
      "byteLimit": 2048000,
      "rowLimit": 10000
     },
     "inputWidgets": {},
     "nuid": "d3a88e1b-53da-4f2c-aef2-7ae49d8ca498",
     "showTitle": false,
     "tableResultSettingsMap": {},
     "title": ""
    }
   },
   "outputs": [],
   "source": [
    "display(pivoted_df)"
   ]
  }
 ],
 "metadata": {
  "application/vnd.databricks.v1+notebook": {
   "computePreferences": null,
   "dashboards": [],
   "environmentMetadata": {
    "base_environment": "",
    "environment_version": "2"
   },
   "inputWidgetPreferences": null,
   "language": "python",
   "notebookMetadata": {
    "mostRecentlyExecutedCommandWithImplicitDF": {
     "commandId": 6692143713836292,
     "dataframes": [
      "_sqldf"
     ]
    },
    "pythonIndentUnit": 4
   },
   "notebookName": "4 - analyze_creators",
   "widgets": {}
  },
  "language_info": {
   "name": "python"
  }
 },
 "nbformat": 4,
 "nbformat_minor": 0
}
